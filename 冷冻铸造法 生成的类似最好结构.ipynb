{
 "cells": [
  {
   "cell_type": "code",
   "execution_count": 2,
   "id": "591b7cb7",
   "metadata": {},
   "outputs": [
    {
     "name": "stdout",
     "output_type": "stream",
     "text": [
      "体积分数：0.5670000000000001\n"
     ]
    }
   ],
   "source": [
    "f = open('E:/n12.dat','w')\n",
    "import random\n",
    "#基体的尺寸\n",
    "X=100\n",
    "Y=100\n",
    "Z=100\n",
    "#每一点成核的概率\n",
    "p1=0.01\n",
    "#把基质填满介质1\n",
    "dic={}\n",
    "for i in range(1,X+1):\n",
    "    for j in range(1,Y+1):\n",
    "        for k in range(1,Z+1):\n",
    "            dic[str(i)+','+str(j)+','+str(k)]=str(1)\n",
    "for i in range(1,X+1):\n",
    "    for j in range(1,Y+1):\n",
    "        for k in range(1,Z+1):\n",
    "            if 7<=i<=16 and 20<=k:\n",
    "                dic[str(i)+','+str(j)+','+str(k)]=str(2)\n",
    "            if 20<=i<=29 and 20<=k:\n",
    "                dic[str(i)+','+str(j)+','+str(k)]=str(2)\n",
    "            if 33<=i<=42 and 20<=k:\n",
    "                dic[str(i)+','+str(j)+','+str(k)]=str(2)\n",
    "            if 46<=i<=55 and 20<=k:\n",
    "                dic[str(i)+','+str(j)+','+str(k)]=str(2)\n",
    "            if 59<=i<=68 and 20<=k:\n",
    "                dic[str(i)+','+str(j)+','+str(k)]=str(2)\n",
    "            if 72<=i<=81 and 20<=k:\n",
    "                dic[str(i)+','+str(j)+','+str(k)]=str(2)\n",
    "            if 85<=i<=94 and 20<=k:\n",
    "                 dic[str(i)+','+str(j)+','+str(k)]=str(2)\n",
    "#根据判定条件生成长方体\n",
    "for i in dic:\n",
    "    v=dic[i]\n",
    "    v='           '+v\n",
    "    s=i.split(',')\n",
    "    x3=s[0]\n",
    "    if len(x3)==1:\n",
    "        x3='           '+x3\n",
    "    elif len(x3)==2:\n",
    "        x3='          '+x3\n",
    "    elif len(x3)==3:\n",
    "        x3='         '+x3\n",
    "    y3=s[1]\n",
    "    if len(y3)==1:\n",
    "        y3='           '+y3\n",
    "    elif len(y3)==2:\n",
    "        y3='          '+y3\n",
    "    elif len(y3)==3:\n",
    "        y3='         '+y3\n",
    "    z3=s[2]\n",
    "    if len(z3)==1:\n",
    "        z3='           '+z3\n",
    "    elif len(z3)==2:\n",
    "        z3='          '+z3\n",
    "    elif len(z3)==3:\n",
    "        z3='         '+z3\n",
    "    h=x3+y3+z3+v\n",
    "    f.write(h)\n",
    "    f.write('\\n')\n",
    "f.close() \n",
    "#写入dat文件中\n",
    "n=0\n",
    "dic2=dic.copy()\n",
    "for x in range(1,X+1):\n",
    "    for y in range(1,Y+1):\n",
    "        for z in range(1,Z+1):\n",
    "            if dic2[str(x)+','+str(y)+','+str(z)]==str(2):\n",
    "                n=n+1\n",
    "n=n/X/Y/Z\n",
    "print('体积分数：%s'%n)"
   ]
  }
 ],
 "metadata": {
  "kernelspec": {
   "display_name": "Python 3 (ipykernel)",
   "language": "python",
   "name": "python3"
  },
  "language_info": {
   "codemirror_mode": {
    "name": "ipython",
    "version": 3
   },
   "file_extension": ".py",
   "mimetype": "text/x-python",
   "name": "python",
   "nbconvert_exporter": "python",
   "pygments_lexer": "ipython3",
   "version": "3.8.11"
  }
 },
 "nbformat": 4,
 "nbformat_minor": 5
}
